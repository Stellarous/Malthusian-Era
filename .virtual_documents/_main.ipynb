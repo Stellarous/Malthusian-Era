


import numpy as np
import matplotlib.pyplot as plt
from scipy.integrate import odeint


def malthusian_growth(P, t, r, K):
    """Malthusian groth differential equation"""
    return r * P * (1 - P/K)


# parameters
r = 0.1 # 10% growth rate
K = 1000 # carrying capacity
P0 = 100 # initial population
t = np.linspace(0, 100, 200) # 100 years, 200 time points


# Solve ODE
solution = odeint(malthusian_growth, P0, t, args=(r, K))
population = solution.flatten()


# Visualization
plt.figure(figsize=(10, 6))
plt.plot(t, population, 'b-', label='Population')
plt.axhline(y=K, color='r', linestyle='--', label='Carrying Capacity y (K)')
plt.title('Malthusian Population Growth')
plt.xlabel('Time (years)')
plt.ylable('Population Size')
plt.legend()
plt.grid(True)
plt.show()



