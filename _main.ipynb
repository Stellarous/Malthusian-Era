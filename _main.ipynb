{
 "cells": [
  {
   "cell_type": "markdown",
   "id": "3268d400-6c44-4e51-9be4-b957c17f6188",
   "metadata": {},
   "source": [
    "# Malthusian Era\n",
    "This is an agent-based model of Malthusian population growth."
   ]
  },
  {
   "cell_type": "code",
   "execution_count": null,
   "id": "0fa52903-1d17-442e-ba72-5213828da5da",
   "metadata": {},
   "outputs": [],
   "source": []
  }
 ],
 "metadata": {
  "kernelspec": {
   "display_name": "Python 3",
   "language": "python",
   "name": "python3"
  },
  "language_info": {
   "codemirror_mode": {
    "name": "ipython",
    "version": 3
   },
   "file_extension": ".py",
   "mimetype": "text/x-python",
   "name": "python",
   "nbconvert_exporter": "python",
   "pygments_lexer": "ipython3",
   "version": "3.9.12"
  }
 },
 "nbformat": 4,
 "nbformat_minor": 5
}
